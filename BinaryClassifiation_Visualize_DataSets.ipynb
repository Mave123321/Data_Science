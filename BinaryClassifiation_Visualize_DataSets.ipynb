{
  "nbformat": 4,
  "nbformat_minor": 0,
  "metadata": {
    "colab": {
      "name": "BinaryClassifiation_Visualize_DataSets.ipynb",
      "provenance": [],
      "authorship_tag": "ABX9TyNJJXecYHVIMq5dy2Vm8mvr",
      "include_colab_link": true
    },
    "kernelspec": {
      "name": "python3",
      "display_name": "Python 3"
    },
    "language_info": {
      "name": "python"
    }
  },
  "cells": [
    {
      "cell_type": "markdown",
      "metadata": {
        "id": "view-in-github",
        "colab_type": "text"
      },
      "source": [
        "<a href=\"https://colab.research.google.com/github/Mave123321/Data_Science/blob/main/BinaryClassifiation_Visualize_DataSets.ipynb\" target=\"_parent\"><img src=\"https://colab.research.google.com/assets/colab-badge.svg\" alt=\"Open In Colab\"/></a>"
      ]
    },
    {
      "cell_type": "code",
      "metadata": {
        "colab": {
          "base_uri": "https://localhost:8080/",
          "height": 338
        },
        "id": "IsLqJlE2Y025",
        "outputId": "2fd8f2b0-b460-46fd-85f3-5b9fafc1c1fc"
      },
      "source": [
        "#import library files\n",
        "import matplotlib.pyplot as plt\n",
        "import numpy as pd\n",
        "jobList = ['admin', 'scientist', 'doctor', 'management']\n",
        "jobYes = [20,60,70,40]\n",
        "jobNo = [80,40,30,60]\n",
        "xlabels = len(jobList)\n",
        "ind = np.arange(xlabels)\n",
        "width = 0.35\n",
        "p1 = plt.bar(ind, jobYes, width)\n",
        "p2 = plt.bar(ind, jobNo, width, bottom=jobYes)\n",
        "plt.ylabel('Proportion of Jobs')\n",
        "plt.title('Job')\n",
        "plt.xticks(ind, jobList)\n",
        "plt.yticks(np.arange(0,100,10))\n",
        "plt.legend((p1[0], p2[0]), ('Yes', 'No'))\n",
        "plt.xticks(rotation=90)\n",
        "plt.show()"
      ],
      "execution_count": 25,
      "outputs": [
        {
          "output_type": "display_data",
          "data": {
            "image/png": "[encoded data removed]",
            "text/plain": [
              "<Figure size 432x288 with 1 Axes>"
            ]
          },
          "metadata": {
            "needs_background": "light"
          }
        }
      ]
    },
    {
      "cell_type": "code",
      "metadata": {
        "id": "NDO6_W6bZZ7M"
      },
      "source": [
        "#Create a simple list of categories\n"
      ],
      "execution_count": 3,
      "outputs": []
    }
  ]
}